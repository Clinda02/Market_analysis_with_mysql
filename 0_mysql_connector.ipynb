{
  "cells": [
    {
      "cell_type": "markdown",
      "metadata": {
        "id": "view-in-github",
        "colab_type": "text"
      },
      "source": [
        "<a href=\"https://colab.research.google.com/github/Clinda02/Market_analysis_with_mysql/blob/main/0_mysql_connector.ipynb\" target=\"_parent\"><img src=\"https://colab.research.google.com/assets/colab-badge.svg\" alt=\"Open In Colab\"/></a>"
      ]
    },
    {
      "cell_type": "markdown",
      "metadata": {
        "id": "N9l4bXJXoccY"
      },
      "source": [
        "## Python-Mysql 연동"
      ]
    },
    {
      "cell_type": "code",
      "execution_count": null,
      "metadata": {
        "id": "gVgsxUUSoccc"
      },
      "outputs": [],
      "source": [
        "# # 패키지 설치 및 확인\n",
        "# pip install mysql-connector-python\n",
        "# pip show mysql-connector-python"
      ]
    },
    {
      "cell_type": "code",
      "execution_count": null,
      "metadata": {
        "id": "DqxlIbFMoccf"
      },
      "outputs": [],
      "source": [
        "# 데이터베이스 연결\n",
        "import mysql.connector\n",
        "conn = mysql.connector.connect(\n",
        "  host = 'localhost',  # 데이터베이스 서버 주소\n",
        "  user='root',  # 데이터베이스 사용자 이름\n",
        "  password = 'password',  # 데이터베이스 비밀번호\n",
        "  database = 'classicmodels'  # 접속 데이터베이스\n",
        ")\n",
        "\n",
        "# 커서 생성\n",
        "conn.cursor()\n",
        "\n",
        "# 쿼리 실행\n",
        "cursor.execute(sql) # sqldms SQL 쿼리 문자열\n",
        "Cursor.description  # SELECT문의 결과 컬럼에 대한 정보를 담고 있는 튜플\n",
        "\n",
        "# 쿼리 가져오기\n",
        "cursor.fetchone()  # 쿼리 결과에서 다음 행 출력. 결과값 없는 경우 None\n",
        "cursor.fetchall()  # 쿼리 결과에서 모든 행 출력. 메모리 문제 주의\n",
        "cursor.fetchmany(size=숫자)  # 지정된 수(size) 출력. 미지정 시 cursor.arraysize이 기본값\n",
        "\n",
        "# 연결 및 커서 종료\n",
        "cursor.close() # 커서 객체 닫고, 모든 리소스 해제. 이후 해당 커서 사용 불가\n",
        "conn.close()   # 데이터베이스 연결 종료. 이후 해당 데이터베이스 작업 불가"
      ]
    },
    {
      "cell_type": "code",
      "execution_count": null,
      "metadata": {
        "id": "r-ik3G1Rocch"
      },
      "outputs": [],
      "source": [
        "# mysql -python 연동 예시\n",
        "query =\"SELECT * FROM table\"\n",
        "df = pd.read_sql_query(query, conn)"
      ]
    }
  ],
  "metadata": {
    "kernelspec": {
      "display_name": "mysql-conn",
      "language": "python",
      "name": "python3"
    },
    "language_info": {
      "codemirror_mode": {
        "name": "ipython",
        "version": 3
      },
      "file_extension": ".py",
      "mimetype": "text/x-python",
      "name": "python",
      "nbconvert_exporter": "python",
      "pygments_lexer": "ipython3",
      "version": "3.9.21"
    },
    "colab": {
      "provenance": [],
      "include_colab_link": true
    }
  },
  "nbformat": 4,
  "nbformat_minor": 0
}